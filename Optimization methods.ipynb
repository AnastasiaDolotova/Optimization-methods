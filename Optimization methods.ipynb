{
  "nbformat": 4,
  "nbformat_minor": 0,
  "metadata": {
    "colab": {
      "provenance": [],
      "authorship_tag": "ABX9TyMq8uS9KNC9H2XhRIhXPRdw",
      "include_colab_link": true
    },
    "kernelspec": {
      "name": "python3",
      "display_name": "Python 3"
    },
    "language_info": {
      "name": "python"
    }
  },
  "cells": [
    {
      "cell_type": "markdown",
      "metadata": {
        "id": "view-in-github",
        "colab_type": "text"
      },
      "source": [
        "<a href=\"https://colab.research.google.com/github/AnastasiaDolotova/Optimization-methods/blob/main/Optimization%20methods.ipynb\" target=\"_parent\"><img src=\"https://colab.research.google.com/assets/colab-badge.svg\" alt=\"Open In Colab\"/></a>"
      ]
    },
    {
      "cell_type": "code",
      "source": [
        "import numpy as np\n",
        "from sympy import solve, sqrt, simplify\n",
        "from sympy.abc import x, y\n",
        "from math import prod\n",
        "from sympy import init_printing"
      ],
      "metadata": {
        "id": "50warXU5Rway"
      },
      "execution_count": null,
      "outputs": []
    },
    {
      "cell_type": "code",
      "source": [
        "init_printing()"
      ],
      "metadata": {
        "id": "Y3xD5zBWbx8E"
      },
      "execution_count": null,
      "outputs": []
    },
    {
      "cell_type": "markdown",
      "source": [
        "#Интерполяция"
      ],
      "metadata": {
        "id": "ICklHxxrG3a5"
      }
    },
    {
      "cell_type": "markdown",
      "source": [
        "##Точная"
      ],
      "metadata": {
        "id": "9UWicHsPG6tq"
      }
    },
    {
      "cell_type": "markdown",
      "source": [
        "###Интерполяционный полином Лагранжа"
      ],
      "metadata": {
        "id": "Xu6xyvX9Rc78"
      }
    },
    {
      "cell_type": "code",
      "source": [
        "def make_expr(X, i):\n",
        "    expr = (1)\n",
        "    for j in range(len(X)):\n",
        "        if j == i:\n",
        "            continue\n",
        "        expr = expr * (x - X[j])\n",
        "    return expr"
      ],
      "metadata": {
        "id": "22mXH0e5U9e7"
      },
      "execution_count": null,
      "outputs": []
    },
    {
      "cell_type": "code",
      "execution_count": null,
      "metadata": {
        "id": "dKbYB50iGp9X"
      },
      "outputs": [],
      "source": [
        "def interpolate_lagrange(X, Y):\n",
        "    n = len(X)\n",
        "    g = []\n",
        "    for i in range(n):\n",
        "        numerator = make_expr(X, i)\n",
        "        arr = [X[i] - X[el] for el in range(n)]\n",
        "        arr[i] = 1\n",
        "        denominator = prod(arr)\n",
        "        g.append(numerator / denominator)\n",
        "    f = Y * g\n",
        "    f = sum(f)\n",
        "    return solve(y - f, y)"
      ]
    },
    {
      "cell_type": "code",
      "source": [
        "X = [-1, 0, 1, 2]\n",
        "make_expr(X, 0)"
      ],
      "metadata": {
        "colab": {
          "base_uri": "https://localhost:8080/",
          "height": 38
        },
        "id": "OHF2Fy06Y6bt",
        "outputId": "d82f9d67-db91-4e04-86e3-cb643dd26703"
      },
      "execution_count": null,
      "outputs": [
        {
          "output_type": "execute_result",
          "data": {
            "text/plain": [
              "x⋅(x - 2)⋅(x - 1)"
            ],
            "text/latex": "$\\displaystyle x \\left(x - 2\\right) \\left(x - 1\\right)$"
          },
          "metadata": {},
          "execution_count": 5
        }
      ]
    },
    {
      "cell_type": "code",
      "source": [
        "Y = np.array([1, -1, 2, -1])"
      ],
      "metadata": {
        "id": "Izeek-EoY8WX"
      },
      "execution_count": null,
      "outputs": []
    },
    {
      "cell_type": "code",
      "source": [
        "interpolate_lagrange(X, Y)"
      ],
      "metadata": {
        "colab": {
          "base_uri": "https://localhost:8080/",
          "height": 58
        },
        "id": "bQcnN98CWroX",
        "outputId": "0bedbcb1-18cf-40d2-ede0-c4f72d2c0ce1"
      },
      "execution_count": null,
      "outputs": [
        {
          "output_type": "execute_result",
          "data": {
            "text/plain": [
              "⎡      3      2          ⎤\n",
              "⎢  11⋅x    5⋅x    7⋅x    ⎥\n",
              "⎢- ───── + ──── + ─── - 1⎥\n",
              "⎣    6      2      3     ⎦"
            ],
            "text/latex": "$\\displaystyle \\left[ - \\frac{11 x^{3}}{6} + \\frac{5 x^{2}}{2} + \\frac{7 x}{3} - 1\\right]$"
          },
          "metadata": {},
          "execution_count": 17
        }
      ]
    },
    {
      "cell_type": "markdown",
      "source": [
        "###Второй способ"
      ],
      "metadata": {
        "id": "JbyERq2JcAwv"
      }
    },
    {
      "cell_type": "code",
      "source": [
        "def interpolate(X, Y, f=None, i=0):\n",
        "    if not f:\n",
        "        f = (Y[0])\n",
        "    else:\n",
        "        f_i = f\n",
        "        if i > 1:\n",
        "            f_i = f.subs(x, X[i])\n",
        "        arr = [X[i] - X[el] for el in range(i)]\n",
        "        denominator = prod(arr)\n",
        "        a = (Y[i] - f_i) / denominator\n",
        "        coef = make_expr(X[:i], i)\n",
        "        expr = (f + a * coef)\n",
        "        f = expr\n",
        "    if i + 1 == len(X):\n",
        "        print(solve(y - f, y))\n",
        "    else:\n",
        "        interpolate(X, Y, f, i + 1)"
      ],
      "metadata": {
        "id": "4udJqJ1CcDqK"
      },
      "execution_count": null,
      "outputs": []
    },
    {
      "cell_type": "code",
      "source": [
        "interpolate(X, Y)"
      ],
      "metadata": {
        "colab": {
          "base_uri": "https://localhost:8080/"
        },
        "id": "Vc-xgJ3WkKIn",
        "outputId": "bd85d8c2-53f6-49fa-daae-1f646e128125"
      },
      "execution_count": null,
      "outputs": [
        {
          "output_type": "stream",
          "name": "stdout",
          "text": [
            "[-1.83333333333333*x**3 + 2.5*x**2 + 2.33333333333333*x - 1.0]\n"
          ]
        }
      ]
    },
    {
      "cell_type": "markdown",
      "source": [
        "##Приближенная"
      ],
      "metadata": {
        "id": "GXtDFD6oG8HX"
      }
    },
    {
      "cell_type": "code",
      "source": [],
      "metadata": {
        "id": "J9hNE13-HABH"
      },
      "execution_count": null,
      "outputs": []
    }
  ]
}